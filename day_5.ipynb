{
 "cells": [
  {
   "cell_type": "code",
   "execution_count": 3,
   "id": "520352e5-277e-4b5a-8d04-67a8ea1a2513",
   "metadata": {},
   "outputs": [],
   "source": [
    "import numpy as np\n",
    "import re\n",
    "import itertools"
   ]
  },
  {
   "cell_type": "code",
   "execution_count": 4,
   "id": "c624d092-c59f-4c97-8f32-2cf9b9ea439c",
   "metadata": {
    "scrolled": true,
    "tags": []
   },
   "outputs": [
    {
     "data": {
      "text/plain": [
       "['seeds: 919339981 562444630 3366006921 67827214 1496677366 101156779 4140591657 5858311 2566406753 71724353 2721360939 35899538 383860877 424668759 3649554897 442182562 2846055542 49953829 2988140126 256306471',\n",
       " '',\n",
       " 'seed-to-soil map:',\n",
       " '627617777 1691901751 235673208',\n",
       " '2425244517 2483951770 157286279',\n",
       " '1339042890 1549225044 142676707',\n",
       " '481294110 381503165 89539853',\n",
       " '863290985 1007717708 39103521',\n",
       " '570833963 324719351 56783814',\n",
       " '3953140805 3714151881 155523737',\n",
       " '902394506 1941176275 61481385',\n",
       " '963875891 675869083 331848625',\n",
       " '1922840702 1046821229 502403815',\n",
       " '1481719597 1927574959 13601316',\n",
       " '1820040264 573068645 102800438',\n",
       " '1295724516 2641238049 43318374',\n",
       " '0 2002657660 481294110',\n",
       " '1495320913 0 324719351',\n",
       " '2582530796 471043018 102025627',\n",
       " '3714151881 3869675618 238988924',\n",
       " '',\n",
       " 'soil-to-fertilizer map:',\n",
       " '1288462652 3191328122 309853381',\n",
       " '3216116191 1774097401 151922673',\n",
       " '1739360920 2276789875 44162492',\n",
       " '220941763 1080382821 325206789',\n",
       " '2416141229 3949354107 345613189',\n",
       " '1783523412 765967805 117439234',\n",
       " '2876214366 1010215130 70167691',\n",
       " '2761754418 3142514478 48813644',\n",
       " '3840090062 3541735844 44042641',\n",
       " '2946382057 1417076798 106871618',\n",
       " '3750331405 3501181503 29948437',\n",
       " '1105413398 1405589610 11487188',\n",
       " '2867709608 3585778485 8504758',\n",
       " '3053253675 3594283243 162862516',\n",
       " '15940804 0 90040993',\n",
       " '2192246779 537548320 223894450',\n",
       " '210335859 3531129940 10605904',\n",
       " '546148552 2351877346 559264846',\n",
       " '1598316033 883407039 110119908',\n",
       " '2851021425 993526947 16688183',\n",
       " '0 90040993 15940804',\n",
       " '4134281688 3757145759 160685608',\n",
       " '3718808665 3917831367 31522740',\n",
       " '1116900586 2970952412 171562066',\n",
       " '2810568062 210335859 40453363',\n",
       " '3780279842 2911142192 59810220',\n",
       " '1900962646 761442770 4525035',\n",
       " '1905487681 250789222 286759098',\n",
       " '3368038864 1926020074 350769801',\n",
       " '1708435941 2320952367 30924979',\n",
       " '3884132703 1523948416 250148985',\n",
       " '',\n",
       " 'fertilizer-to-water map:',\n",
       " '2450598719 3993777626 178688420',\n",
       " '990387307 2284751995 36035279',\n",
       " '1479519873 1430606124 25388869',\n",
       " '2928263979 2233553333 51198662',\n",
       " '1825810145 1093816339 30855096',\n",
       " '3131362216 1499369679 38622365',\n",
       " '2629287139 1980229176 243592551',\n",
       " '2979462641 1827354243 146328983',\n",
       " '937194740 3188384434 9817881',\n",
       " '2069360741 1973683226 975358',\n",
       " '1856665241 3781082126 212695500',\n",
       " '642830371 945238436 148577903',\n",
       " '4114154511 1124671435 95554104',\n",
       " '3777484412 483834992 305990165',\n",
       " '3264059981 2427531551 296117669',\n",
       " '272170557 2723649220 370659814',\n",
       " '262438951 2223821727 9731606',\n",
       " '1615429560 1220225539 210380585',\n",
       " '1028349507 226445100 83554339',\n",
       " '4209708615 3198202315 85258681',\n",
       " '3169984581 3094309034 94075400',\n",
       " '4083474577 309999439 30679934',\n",
       " '2872879690 115495593 55384289',\n",
       " '2138362191 340679373 4164957',\n",
       " '947012621 1455994993 43374686',\n",
       " '791408274 1606018136 145786466',\n",
       " '1026422586 1825427322 1926921',\n",
       " '1578531462 789825157 8469921',\n",
       " '3670740135 2320787274 106744277',\n",
       " '2272532251 170879882 55565218',\n",
       " '3125791624 1974658584 5570592',\n",
       " '1111903846 3283460996 367616027',\n",
       " '2070336099 1537992044 68026092',\n",
       " '1504908742 1751804602 73622720',\n",
       " '2142527148 3651077023 130005103',\n",
       " '2328097469 4172466046 122501250',\n",
       " '1587001383 344844330 28428177',\n",
       " '3560177650 373272507 110562485',\n",
       " '115495593 798295078 146943358',\n",
       " '',\n",
       " 'water-to-light map:',\n",
       " '220561404 643114856 123713527',\n",
       " '1087373312 4123526389 171440907',\n",
       " '0 766828383 220561404',\n",
       " '2907464644 3955968868 167557521',\n",
       " '376259478 31984547 611130309',\n",
       " '344274931 0 31984547',\n",
       " '4209967986 1266450159 84999310',\n",
       " '3234177104 1246528251 19921908',\n",
       " '4075482989 2729348487 134484997',\n",
       " '1258814219 1870560966 858787521',\n",
       " '3075022165 1087373312 159154939',\n",
       " '2439602258 3906331676 49637192',\n",
       " '2297013316 3685217461 142588942',\n",
       " '2567764723 1530861045 339699921',\n",
       " '3254099012 2863833484 821383977',\n",
       " '2489239450 3827806403 78525273',\n",
       " '2117601740 1351449469 179411576',\n",
       " '',\n",
       " 'light-to-temperature map:',\n",
       " '83647742 560398800 311449275',\n",
       " '4201716419 3337900402 93250877',\n",
       " '1071565427 3024001249 4392221',\n",
       " '3424420254 3520028211 161472091',\n",
       " '1227070419 2828368402 116428819',\n",
       " '0 2744720660 83647742',\n",
       " '4199359339 3431151279 2357080',\n",
       " '1807547949 2359072262 384093366',\n",
       " '3336003529 3486377667 33650544',\n",
       " '1075957648 871848075 149557739',\n",
       " '3585892345 3681500302 613466994',\n",
       " '955495817 2243002652 116069610',\n",
       " '2191641315 1406250497 836752155',\n",
       " '3369654073 3433508359 52869308',\n",
       " '1343499238 2944797221 79204028',\n",
       " '3422523381 3336003529 1896873',\n",
       " '395097017 0 560398800',\n",
       " '1225515387 2743165628 1555032',\n",
       " '1422703266 1021405814 384844683',\n",
       " '',\n",
       " 'temperature-to-humidity map:',\n",
       " '3340701300 3627322367 174281926',\n",
       " '3514983226 4012096602 282870694',\n",
       " '403969772 2344934648 125307793',\n",
       " '356249525 1299750763 47720247',\n",
       " '529277565 0 19150241',\n",
       " '2425473363 606907612 15105367',\n",
       " '1622667408 1693081570 188915118',\n",
       " '1858084350 1347471010 47053630',\n",
       " '4223873328 2752952198 71093968',\n",
       " '2749048741 3035669808 188955792',\n",
       " '0 2134178305 190659232',\n",
       " '1112200615 96440819 510466793',\n",
       " '4148180263 2749048741 3903457',\n",
       " '1811582526 1113827741 11131074',\n",
       " '548427806 2324837537 20097111',\n",
       " '1905137980 2051821050 82357255',\n",
       " '3116507691 3224625600 224193609',\n",
       " '1822713600 1657710820 35370750',\n",
       " '568524917 622012979 491814762',\n",
       " '2440578730 66777108 29663711',\n",
       " '2250681415 1124958815 174791948',\n",
       " '4009477562 3873393901 138702701',\n",
       " '190659232 1881996688 165590293',\n",
       " '1987495235 1394524640 263186180',\n",
       " '1107966546 2047586981 4234069',\n",
       " '1060339679 19150241 47626867',\n",
       " '4210822392 3801604293 13050936',\n",
       " '2938004533 3448819209 178503158',\n",
       " '3797853920 2824046166 211623642',\n",
       " '4152083720 3814655229 58738672',\n",
       " '',\n",
       " 'humidity-to-location map:',\n",
       " '2102802203 2756269781 87468599',\n",
       " '2877112183 2931341663 22549647',\n",
       " '3494879649 1477788233 182041959',\n",
       " '2436026725 2953891310 81993792',\n",
       " '2899661830 373999642 244663414',\n",
       " '2190270802 850802545 169763790',\n",
       " '3866824018 90439080 13573105',\n",
       " '320139638 1659830192 113214403',\n",
       " '1131501111 1773044595 246249128',\n",
       " '2417984929 828638896 16505804',\n",
       " '3839766923 845144700 5657845',\n",
       " '4161134012 2843738380 87603283',\n",
       " '3731370785 3801964390 108396138',\n",
       " '1003659815 3442085055 127841296',\n",
       " '918426975 3986208955 85232840',\n",
       " '433354041 618663056 209975840',\n",
       " '2811371438 0 65740745',\n",
       " '2518020517 1329719948 148068285',\n",
       " '651651860 3035885102 266775115',\n",
       " '0 2256642811 320139638',\n",
       " '2666088802 228717006 145282636',\n",
       " '4136435677 65740745 24698335',\n",
       " '3144325244 1046598285 188874270',\n",
       " '1657153777 2576782449 179487332',\n",
       " '1844732214 3569926351 232038039',\n",
       " '643329881 2077244060 8321979',\n",
       " '1471997632 4071441795 175759508',\n",
       " '2076770253 1020566335 26031950',\n",
       " '3676921608 3931759778 54449177',\n",
       " '3997010839 3302660217 139424838',\n",
       " '3845424768 3910360528 21399250',\n",
       " '1836641109 104012185 8091105',\n",
       " '3333199514 2085566039 161680135',\n",
       " '3880397123 112103290 116613716',\n",
       " '2360034592 2019293723 57950337',\n",
       " '1377750239 1235472555 94247393',\n",
       " '1647757140 2247246174 9396637',\n",
       " '2434490733 4247201303 1535992']"
      ]
     },
     "execution_count": 4,
     "metadata": {},
     "output_type": "execute_result"
    }
   ],
   "source": [
    "with open(f'input/input_day_05.txt', 'r') as file:\n",
    "    raw_input = file.read().splitlines()\n",
    "raw_input"
   ]
  },
  {
   "cell_type": "code",
   "execution_count": 5,
   "id": "1a095440-881f-459a-b9d6-9ae836fb747e",
   "metadata": {},
   "outputs": [],
   "source": [
    "initial_seeds = re.findall(r'\\d+', raw_input[0])"
   ]
  },
  {
   "cell_type": "code",
   "execution_count": 6,
   "id": "ef708d18-337e-458a-bca1-8b4baeaea487",
   "metadata": {},
   "outputs": [],
   "source": [
    "split_value = ''\n",
    "maps = [list(y) for x, y in itertools.groupby(raw_input[1:], lambda z: z == split_value) if not x]"
   ]
  },
  {
   "cell_type": "code",
   "execution_count": 32,
   "id": "3bbf711c-a18f-4791-9642-42f85638cc26",
   "metadata": {},
   "outputs": [],
   "source": [
    "maps_parsed = [\n",
    "    [re.findall(r'\\d+', map_) for map_ in _map[1:]] for _map in maps\n",
    "]"
   ]
  },
  {
   "cell_type": "code",
   "execution_count": 9,
   "id": "8f22ff72-7152-42a4-97c9-599d1e318edc",
   "metadata": {},
   "outputs": [],
   "source": [
    "def map_seed(seed, map_code_part):\n",
    "    source_start = int(map_code_part[1])\n",
    "    map_range = int(map_code_part[2])\n",
    "    destination_start = int(map_code_part[0])\n",
    "    \n",
    "    if seed in range(source_start, source_start+map_range):\n",
    "        difference = seed-source_start\n",
    "        return destination_start + difference"
   ]
  },
  {
   "cell_type": "code",
   "execution_count": 11,
   "id": "f7bd8b3a-605d-494b-82da-e5e1ba8f033f",
   "metadata": {},
   "outputs": [],
   "source": [
    "def map_function(seed, map_code):\n",
    "    destination = [\n",
    "        i for i in\n",
    "            [\n",
    "                map_seed(seed, map_code_part)\n",
    "                for map_code_part\n",
    "                in map_code\n",
    "            ]\n",
    "        if isinstance(i, (int, float))\n",
    "    ]\n",
    "    return seed if not destination else destination[0]      "
   ]
  },
  {
   "cell_type": "code",
   "execution_count": 21,
   "id": "916f1c2a-a287-4b63-9ba5-0de4e3693fb6",
   "metadata": {
    "scrolled": true,
    "tags": []
   },
   "outputs": [],
   "source": [
    "def find_final_start_zone(initial_seed):\n",
    "    current_index = int(initial_seed)\n",
    "    for map_code in maps_parsed:\n",
    "        new_index = map_function(current_index, map_code)\n",
    "        current_index = new_index\n",
    "    return current_index"
   ]
  },
  {
   "cell_type": "code",
   "execution_count": 22,
   "id": "b9bbf41f-fcc3-4305-a95a-90239cb0e323",
   "metadata": {},
   "outputs": [
    {
     "data": {
      "text/plain": [
       "346433842"
      ]
     },
     "execution_count": 22,
     "metadata": {},
     "output_type": "execute_result"
    }
   ],
   "source": [
    "#Part 1\n",
    "final_start_zone = []\n",
    "for seed in initial_seeds:\n",
    "    final_start_zone.append(find_final_start_zone(seed))\n",
    "min(final_start_zone)"
   ]
  },
  {
   "cell_type": "code",
   "execution_count": 25,
   "id": "9ca3e60c-c34e-4721-903b-254f90726665",
   "metadata": {},
   "outputs": [
    {
     "ename": "KeyboardInterrupt",
     "evalue": "",
     "output_type": "error",
     "traceback": [
      "\u001b[0;31m---------------------------------------------------------------------------\u001b[0m",
      "\u001b[0;31mKeyboardInterrupt\u001b[0m                         Traceback (most recent call last)",
      "Cell \u001b[0;32mIn[25], line 4\u001b[0m\n\u001b[1;32m      2\u001b[0m \u001b[38;5;28;01mfor\u001b[39;00m seed_start, seed_range \u001b[38;5;129;01min\u001b[39;00m \u001b[38;5;28mzip\u001b[39m(initial_seeds[\u001b[38;5;241m0\u001b[39m::\u001b[38;5;241m2\u001b[39m], initial_seeds[\u001b[38;5;241m1\u001b[39m::\u001b[38;5;241m2\u001b[39m]):\n\u001b[1;32m      3\u001b[0m     \u001b[38;5;28;01mfor\u001b[39;00m seed \u001b[38;5;129;01min\u001b[39;00m \u001b[38;5;28mrange\u001b[39m(\u001b[38;5;28mint\u001b[39m(seed_start), \u001b[38;5;28mint\u001b[39m(seed_start\u001b[38;5;241m+\u001b[39mseed_range)):\n\u001b[0;32m----> 4\u001b[0m         final_start_zone \u001b[38;5;241m=\u001b[39m \u001b[38;5;28mmin\u001b[39m(\u001b[43mfind_final_start_zone\u001b[49m\u001b[43m(\u001b[49m\u001b[43mseed\u001b[49m\u001b[43m)\u001b[49m, final_start_zone)\n\u001b[1;32m      5\u001b[0m \u001b[38;5;28mmin\u001b[39m(final_start_zone)\n",
      "Cell \u001b[0;32mIn[21], line 4\u001b[0m, in \u001b[0;36mfind_final_start_zone\u001b[0;34m(initial_seed)\u001b[0m\n\u001b[1;32m      2\u001b[0m current_index \u001b[38;5;241m=\u001b[39m \u001b[38;5;28mint\u001b[39m(initial_seed)\n\u001b[1;32m      3\u001b[0m \u001b[38;5;28;01mfor\u001b[39;00m map_code \u001b[38;5;129;01min\u001b[39;00m maps_parsed:\n\u001b[0;32m----> 4\u001b[0m     new_index \u001b[38;5;241m=\u001b[39m \u001b[43mmap_function\u001b[49m\u001b[43m(\u001b[49m\u001b[43mcurrent_index\u001b[49m\u001b[43m,\u001b[49m\u001b[43m \u001b[49m\u001b[43mmap_code\u001b[49m\u001b[43m)\u001b[49m\n\u001b[1;32m      5\u001b[0m     current_index \u001b[38;5;241m=\u001b[39m new_index\n\u001b[1;32m      6\u001b[0m \u001b[38;5;28;01mreturn\u001b[39;00m current_index\n",
      "Cell \u001b[0;32mIn[11], line 5\u001b[0m, in \u001b[0;36mmap_function\u001b[0;34m(seed, map_code)\u001b[0m\n\u001b[1;32m      1\u001b[0m \u001b[38;5;28;01mdef\u001b[39;00m \u001b[38;5;21mmap_function\u001b[39m(seed, map_code):\n\u001b[1;32m      2\u001b[0m     destination \u001b[38;5;241m=\u001b[39m [\n\u001b[1;32m      3\u001b[0m         i \u001b[38;5;28;01mfor\u001b[39;00m i \u001b[38;5;129;01min\u001b[39;00m\n\u001b[1;32m      4\u001b[0m             [\n\u001b[0;32m----> 5\u001b[0m                 \u001b[43mmap_seed\u001b[49m\u001b[43m(\u001b[49m\u001b[43mseed\u001b[49m\u001b[43m,\u001b[49m\u001b[43m \u001b[49m\u001b[43mmap_code_part\u001b[49m\u001b[43m)\u001b[49m\n\u001b[1;32m      6\u001b[0m                 \u001b[38;5;28;01mfor\u001b[39;00m map_code_part\n\u001b[1;32m      7\u001b[0m                 \u001b[38;5;129;01min\u001b[39;00m map_code\n\u001b[1;32m      8\u001b[0m             ]\n\u001b[1;32m      9\u001b[0m         \u001b[38;5;28;01mif\u001b[39;00m \u001b[38;5;28misinstance\u001b[39m(i, (\u001b[38;5;28mint\u001b[39m, \u001b[38;5;28mfloat\u001b[39m))\n\u001b[1;32m     10\u001b[0m     ]\n\u001b[1;32m     11\u001b[0m     \u001b[38;5;28;01mreturn\u001b[39;00m seed \u001b[38;5;28;01mif\u001b[39;00m \u001b[38;5;129;01mnot\u001b[39;00m destination \u001b[38;5;28;01melse\u001b[39;00m destination[\u001b[38;5;241m0\u001b[39m]\n",
      "Cell \u001b[0;32mIn[9], line 2\u001b[0m, in \u001b[0;36mmap_seed\u001b[0;34m(seed, map_code_part)\u001b[0m\n\u001b[1;32m      1\u001b[0m \u001b[38;5;28;01mdef\u001b[39;00m \u001b[38;5;21mmap_seed\u001b[39m(seed, map_code_part):\n\u001b[0;32m----> 2\u001b[0m     source_start \u001b[38;5;241m=\u001b[39m \u001b[38;5;28;43mint\u001b[39;49m\u001b[43m(\u001b[49m\u001b[43mmap_code_part\u001b[49m\u001b[43m[\u001b[49m\u001b[38;5;241;43m1\u001b[39;49m\u001b[43m]\u001b[49m\u001b[43m)\u001b[49m\n\u001b[1;32m      3\u001b[0m     map_range \u001b[38;5;241m=\u001b[39m \u001b[38;5;28mint\u001b[39m(map_code_part[\u001b[38;5;241m2\u001b[39m])\n\u001b[1;32m      4\u001b[0m     destination_start \u001b[38;5;241m=\u001b[39m \u001b[38;5;28mint\u001b[39m(map_code_part[\u001b[38;5;241m0\u001b[39m])\n",
      "\u001b[0;31mKeyboardInterrupt\u001b[0m: "
     ]
    }
   ],
   "source": [
    "#Lol yeah let's check billions of cases\n",
    "final_start_zone = np.inf\n",
    "for seed_start, seed_range in zip(initial_seeds[0::2], initial_seeds[1::2]):\n",
    "    for seed in range(int(seed_start), int(seed_start+seed_range)):\n",
    "        final_start_zone = min(find_final_start_zone(seed), final_start_zone)\n",
    "min(final_start_zone)"
   ]
  },
  {
   "cell_type": "code",
   "execution_count": null,
   "id": "c8c51a32-9254-4a62-a2cd-c33d180cc1a8",
   "metadata": {},
   "outputs": [],
   "source": [
    "#Need inverse maps of discontinuities\n",
    "def find_endpoint_inverse(map_code):\n",
    "    endpoints = []\n",
    "    for map_code_part in map_code:\n",
    "        source_start = int(map_code_part[1])\n",
    "        map_range = int(map_code_part[2])\n",
    "        destination_start = int(map_code_part[0])\n",
    "        \n",
    "        endpoints += [source_start, "
   ]
  },
  {
   "cell_type": "code",
   "execution_count": 64,
   "id": "4c6d5d47-c020-4f81-8dba-7896bdd5cb38",
   "metadata": {},
   "outputs": [],
   "source": [
    "def parse_endpoint_inverses(map_code):\n",
    "    map_endpoints = [\n",
    "        [\n",
    "            int(s_start),\n",
    "            int(s_start) + int(rlen) - 1\n",
    "        ]\n",
    "        for (d_start, s_start, rlen) \n",
    "        in map_code\n",
    "    ]\n",
    "    return [map_point for map_points in map_endpoints for map_point in map_points]"
   ]
  },
  {
   "cell_type": "code",
   "execution_count": 54,
   "id": "8d392435-dcb1-4190-b69e-5eed64077a59",
   "metadata": {},
   "outputs": [],
   "source": [
    "def parse_point_inverse(point, map_code):\n",
    "    for (d_start, s_start, rlen) in map_code:\n",
    "        if int(d_start) <= point <= int(d_start) + int(rlen) - 1:\n",
    "            return point - int(d_start) + int(s_start)\n",
    "    return point"
   ]
  },
  {
   "cell_type": "code",
   "execution_count": 68,
   "id": "7f3f5bfb-04ba-4fb3-8ede-48c6e7fe8571",
   "metadata": {
    "tags": []
   },
   "outputs": [],
   "source": [
    "all_inverses = [0, np.inf]\n",
    "for map_code in reversed(maps_parsed):\n",
    "    map_inverses = parse_endpoint_inverses(map_code)\n",
    "    additional_inverses = [\n",
    "        parse_point_inverse(point, map_code)\n",
    "        for point\n",
    "        in all_inverses\n",
    "    ]\n",
    "    all_inverses = map_inverses + additional_inverses"
   ]
  },
  {
   "cell_type": "code",
   "execution_count": 76,
   "id": "23dc4091-7e78-4628-a803-ff82b23f6bd7",
   "metadata": {},
   "outputs": [],
   "source": [
    "available_inverses = []\n",
    "for seed_start, seed_range in zip(initial_seeds[0::2], initial_seeds[1::2]):\n",
    "    for inverse in all_inverses:\n",
    "        if int(seed_start) <= inverse <= int(seed_start)+int(seed_range)-1:\n",
    "            available_inverses.append(inverse)"
   ]
  },
  {
   "cell_type": "code",
   "execution_count": 77,
   "id": "df8f296e-801d-4489-ac11-d48cc05dd4ee",
   "metadata": {},
   "outputs": [
    {
     "data": {
      "text/plain": [
       "60294664"
      ]
     },
     "execution_count": 77,
     "metadata": {},
     "output_type": "execute_result"
    }
   ],
   "source": [
    "#Part 2\n",
    "final_start_zone = []\n",
    "for seed in available_inverses:\n",
    "    final_start_zone.append(find_final_start_zone(seed))\n",
    "min(final_start_zone)"
   ]
  },
  {
   "cell_type": "code",
   "execution_count": null,
   "id": "6609649f-4873-43c9-9a28-c3b12ec0ea89",
   "metadata": {},
   "outputs": [],
   "source": []
  }
 ],
 "metadata": {
  "kernelspec": {
   "display_name": "3.12.0",
   "language": "python",
   "name": "advent-of-code-2023"
  },
  "language_info": {
   "codemirror_mode": {
    "name": "ipython",
    "version": 3
   },
   "file_extension": ".py",
   "mimetype": "text/x-python",
   "name": "python",
   "nbconvert_exporter": "python",
   "pygments_lexer": "ipython3",
   "version": "3.12.0"
  }
 },
 "nbformat": 4,
 "nbformat_minor": 5
}
