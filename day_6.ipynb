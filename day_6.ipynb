{
 "cells": [
  {
   "cell_type": "code",
   "execution_count": 4,
   "id": "555e5bc7-ebf1-4248-a19e-9d6762b037eb",
   "metadata": {},
   "outputs": [],
   "source": [
    "import numpy as np\n",
    "import re"
   ]
  },
  {
   "cell_type": "code",
   "execution_count": 1,
   "id": "012d7450-c5ad-4522-a620-e9e826c9dd5f",
   "metadata": {
    "scrolled": true,
    "tags": []
   },
   "outputs": [
    {
     "data": {
      "text/plain": [
       "['Time:        46     80     78     66',\n",
       " 'Distance:   214   1177   1402   1024']"
      ]
     },
     "execution_count": 1,
     "metadata": {},
     "output_type": "execute_result"
    }
   ],
   "source": [
    "with open(f'input/input_day_06.txt', 'r') as file:\n",
    "    raw_input = file.read().splitlines()\n",
    "raw_input"
   ]
  },
  {
   "cell_type": "code",
   "execution_count": 9,
   "id": "bd0fd625-a0a1-44e1-8a96-db90196c1161",
   "metadata": {},
   "outputs": [],
   "source": [
    "times = list(map(int, re.findall(r'\\d+', raw_input[0])))\n",
    "records = list(map(int, re.findall(r'\\d+', raw_input[1])))"
   ]
  },
  {
   "cell_type": "code",
   "execution_count": 14,
   "id": "a1df4595-5c40-432a-bba4-5cf46e1c44b4",
   "metadata": {},
   "outputs": [
    {
     "data": {
      "text/plain": [
       "[(46, 214), (80, 1177), (78, 1402), (66, 1024)]"
      ]
     },
     "execution_count": 14,
     "metadata": {},
     "output_type": "execute_result"
    }
   ],
   "source": [
    "list(zip(times, records))"
   ]
  },
  {
   "cell_type": "code",
   "execution_count": 34,
   "id": "4a5413d5-4e97-421f-b529-92f07e0e64ab",
   "metadata": {},
   "outputs": [],
   "source": [
    "def find_record_inverse(record, max_time):\n",
    "    discriminant = max_time**2-4*record # discriminant\n",
    "\n",
    "    x1 = (max_time+np.sqrt(discriminant))/2\n",
    "    x2 = (max_time-np.sqrt(discriminant))/2\n",
    "    return int(min(x1,x2))"
   ]
  },
  {
   "cell_type": "code",
   "execution_count": 46,
   "id": "3d530b9a-10c4-42d4-9c12-a5778292ce4c",
   "metadata": {},
   "outputs": [],
   "source": [
    "def find_num_victory_conditions(max_time, record):\n",
    "    return max_time - 2*find_record_inverse(record, max_time) - 1"
   ]
  },
  {
   "cell_type": "code",
   "execution_count": 47,
   "id": "d3d15746-e6ac-4b9c-9957-524c41841240",
   "metadata": {},
   "outputs": [
    {
     "data": {
      "text/plain": [
       "512295"
      ]
     },
     "execution_count": 47,
     "metadata": {},
     "output_type": "execute_result"
    }
   ],
   "source": [
    "#part 1\n",
    "num_victory_conditions = []\n",
    "for max_time, record in list(zip(times, records)):\n",
    "    num_victory_conditions.append(find_num_victory_conditions(max_time, record))\n",
    "np.prod(num_victory_conditions)"
   ]
  },
  {
   "cell_type": "code",
   "execution_count": 53,
   "id": "cbcd1bae-5b1e-4ed8-8ea2-fd5fa0e94133",
   "metadata": {},
   "outputs": [
    {
     "data": {
      "text/plain": [
       "36530883"
      ]
     },
     "execution_count": 53,
     "metadata": {},
     "output_type": "execute_result"
    }
   ],
   "source": [
    "#part 2\n",
    "time = int(''.join(re.findall(r'\\d+', raw_input[0])))\n",
    "record = int(''.join(re.findall(r'\\d+', raw_input[1])))\n",
    "\n",
    "find_num_victory_conditions(time, record)"
   ]
  },
  {
   "cell_type": "code",
   "execution_count": null,
   "id": "66ddb3a1-27a6-4a92-b5a7-579127d5deac",
   "metadata": {},
   "outputs": [],
   "source": []
  }
 ],
 "metadata": {
  "kernelspec": {
   "display_name": "3.12.0",
   "language": "python",
   "name": "advent-of-code-2023"
  },
  "language_info": {
   "codemirror_mode": {
    "name": "ipython",
    "version": 3
   },
   "file_extension": ".py",
   "mimetype": "text/x-python",
   "name": "python",
   "nbconvert_exporter": "python",
   "pygments_lexer": "ipython3",
   "version": "3.12.0"
  }
 },
 "nbformat": 4,
 "nbformat_minor": 5
}
